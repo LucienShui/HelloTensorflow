{
  "nbformat": 4,
  "nbformat_minor": 0,
  "metadata": {
    "colab": {
      "name": "一些基础.ipynb",
      "version": "0.3.2",
      "provenance": [],
      "collapsed_sections": []
    },
    "kernelspec": {
      "name": "python3",
      "display_name": "Python 3"
    }
  },
  "cells": [
    {
      "cell_type": "markdown",
      "metadata": {
        "id": "PM48IjxF-rGq",
        "colab_type": "text"
      },
      "source": [
        "# 一些基础"
      ]
    },
    {
      "cell_type": "markdown",
      "metadata": {
        "id": "opfxMCyb-vSY",
        "colab_type": "text"
      },
      "source": [
        "## 1. 变量、常量\n",
        "\n",
        "我们要重点理解的是， TensorFlow 中通过 tf.assign(ref, value) 的方式来把 value 值赋给 ref 变量。这样子，每一次循环的时候，ref 变量才不会再做定义时候的初始化操作。"
      ]
    },
    {
      "cell_type": "code",
      "metadata": {
        "id": "sqjEXrOMDUtM",
        "colab_type": "code",
        "colab": {}
      },
      "source": [
        "import tensorflow as tf"
      ],
      "execution_count": 0,
      "outputs": []
    },
    {
      "cell_type": "markdown",
      "metadata": {
        "id": "_6X3FNraEdvB",
        "colab_type": "text"
      },
      "source": [
        "### 1.1 用 Tensorflow 实现计数器"
      ]
    },
    {
      "cell_type": "markdown",
      "metadata": {
        "id": "Ga4RlGsl_HDB",
        "colab_type": "text"
      },
      "source": [
        "创建变量，初始化为 $0$"
      ]
    },
    {
      "cell_type": "code",
      "metadata": {
        "id": "VPJx2lHK-oG4",
        "colab_type": "code",
        "colab": {}
      },
      "source": [
        "state = tf.Variable(0, name=\"counter\")"
      ],
      "execution_count": 0,
      "outputs": []
    },
    {
      "cell_type": "markdown",
      "metadata": {
        "id": "MUFRnNPtDNrS",
        "colab_type": "text"
      },
      "source": [
        "创建一个 $OP$ ，作用是使 `state` 增加 $1$"
      ]
    },
    {
      "cell_type": "code",
      "metadata": {
        "id": "LdFUsFhtD8OH",
        "colab_type": "code",
        "colab": {}
      },
      "source": [
        "one = tf.constant(1)\n",
        "buf = tf.add(state, one)\n",
        "update = tf.assign(state, buf)"
      ],
      "execution_count": 0,
      "outputs": []
    },
    {
      "cell_type": "markdown",
      "metadata": {
        "id": "L4pl31ybEIeW",
        "colab_type": "text"
      },
      "source": [
        "启动图，运行 `update` $OP$"
      ]
    },
    {
      "cell_type": "code",
      "metadata": {
        "id": "il1xOGcAEORS",
        "colab_type": "code",
        "colab": {
          "base_uri": "https://localhost:8080/",
          "height": 85
        },
        "outputId": "5ab0394a-5776-4ce8-f59e-f45557cf6ae6"
      },
      "source": [
        "with tf.Session() as session:\n",
        "    session.run(tf.global_variables_initializer())\n",
        "    print(session.run(state))\n",
        "\n",
        "    for _ in range(3):\n",
        "        session.run(update)\n",
        "        print(session.run(state))"
      ],
      "execution_count": 4,
      "outputs": [
        {
          "output_type": "stream",
          "text": [
            "0\n",
            "1\n",
            "2\n",
            "3\n"
          ],
          "name": "stdout"
        }
      ]
    },
    {
      "cell_type": "markdown",
      "metadata": {
        "id": "_NnWv4u6EtNb",
        "colab_type": "text"
      },
      "source": [
        "### 1.2 用 Tensorflow 实现对数组求和，再计算均值"
      ]
    },
    {
      "cell_type": "code",
      "metadata": {
        "id": "UWVV26-7Ezce",
        "colab_type": "code",
        "colab": {}
      },
      "source": [
        "num_sum = tf.Variable(0.0, dtype=tf.float32)\n",
        "array = tf.constant([1.0, 2.0, 3.0, 4.0])\n",
        "\n",
        "input_data = tf.placeholder(tf.float32)\n",
        "\n",
        "buf = tf.add(num_sum, input_data)\n",
        "update = tf.assign(num_sum, buf)"
      ],
      "execution_count": 0,
      "outputs": []
    },
    {
      "cell_type": "code",
      "metadata": {
        "id": "NQxLz9xLFQJI",
        "colab_type": "code",
        "colab": {
          "base_uri": "https://localhost:8080/",
          "height": 153
        },
        "outputId": "ca9ff8e3-6d01-42e6-9c1f-bd06f78c1fb0"
      },
      "source": [
        "with tf.Session() as session:\n",
        "    session.run(tf.global_variables_initializer())\n",
        "\n",
        "    print(\"num_sum = {}\".format(session.run(num_sum)))\n",
        "    print(\"array = {}\".format(session.run(array)))\n",
        "\n",
        "    for i in range(array.shape[0]):\n",
        "        session.run(update, feed_dict={input_data: session.run(array[i])})\n",
        "        print(session.run(num_sum))"
      ],
      "execution_count": 8,
      "outputs": [
        {
          "output_type": "stream",
          "text": [
            "Tensor(\"Placeholder_1:0\", dtype=float32)\n",
            "Tensor(\"Const_2:0\", shape=(4,), dtype=float32)\n",
            "num_sum = 0.0\n",
            "array = [1. 2. 3. 4.]\n",
            "1.0\n",
            "3.0\n",
            "6.0\n",
            "10.0\n"
          ],
          "name": "stdout"
        }
      ]
    },
    {
      "cell_type": "markdown",
      "metadata": {
        "id": "Prsz0qQ7HmBx",
        "colab_type": "text"
      },
      "source": [
        "### 1.3 只用一个变量来实现计数器"
      ]
    },
    {
      "cell_type": "code",
      "metadata": {
        "id": "pibOunTrHqlx",
        "colab_type": "code",
        "colab": {
          "base_uri": "https://localhost:8080/",
          "height": 85
        },
        "outputId": "39ca1a58-8cb8-4f24-aac4-b75a0fc65396"
      },
      "source": [
        "state = tf.Variable(0.0, tf.float32)\n",
        "add_op = tf.assign(state, state + tf.constant(1.0))\n",
        "\n",
        "with tf.Session() as session:\n",
        "    session.run(tf.global_variables_initializer())\n",
        "\n",
        "    print(session.run(state))\n",
        "\n",
        "    for _ in range(3):\n",
        "        session.run(add_op)\n",
        "        print(session.run(state))"
      ],
      "execution_count": 11,
      "outputs": [
        {
          "output_type": "stream",
          "text": [
            "0.0\n",
            "1.0\n",
            "2.0\n",
            "3.0\n"
          ],
          "name": "stdout"
        }
      ]
    },
    {
      "cell_type": "markdown",
      "metadata": {
        "id": "mJSI0YCMIoLE",
        "colab_type": "text"
      },
      "source": [
        "## 2. InteractiveSession()"
      ]
    },
    {
      "cell_type": "markdown",
      "metadata": {
        "id": "ubNT2yu3Irus",
        "colab_type": "text"
      },
      "source": [
        "InteractiveSession() 主要是避免 Session 被一个变量持有"
      ]
    },
    {
      "cell_type": "code",
      "metadata": {
        "id": "S1g_BiW6Iq-l",
        "colab_type": "code",
        "colab": {}
      },
      "source": [
        "a = tf.constant(1.0)\n",
        "b = tf.constant(2.0)\n",
        "c = tf.add(a, b)"
      ],
      "execution_count": 0,
      "outputs": []
    },
    {
      "cell_type": "markdown",
      "metadata": {
        "id": "3RFqjesJJCzF",
        "colab_type": "text"
      },
      "source": [
        "下面两种情况是等价的"
      ]
    },
    {
      "cell_type": "code",
      "metadata": {
        "id": "IEcFUnVxI-wQ",
        "colab_type": "code",
        "colab": {
          "base_uri": "https://localhost:8080/",
          "height": 51
        },
        "outputId": "ccf7f725-69cf-426d-f29f-b92eeb905fa8"
      },
      "source": [
        "with tf.Session():\n",
        "    print(c.eval())\n",
        "\n",
        "session = tf.InteractiveSession()\n",
        "print(c.eval())\n",
        "session.close()"
      ],
      "execution_count": 13,
      "outputs": [
        {
          "output_type": "stream",
          "text": [
            "3.0\n",
            "3.0\n"
          ],
          "name": "stdout"
        }
      ]
    },
    {
      "cell_type": "markdown",
      "metadata": {
        "id": "LIfCQ9n-JMDb",
        "colab_type": "text"
      },
      "source": [
        "再看一个例子"
      ]
    },
    {
      "cell_type": "code",
      "metadata": {
        "id": "nUJfQQoeJNn7",
        "colab_type": "code",
        "colab": {}
      },
      "source": [
        "a = tf.constant(1.0)\n",
        "b = tf.constant(2.0)\n",
        "c = tf.Variable(3.0)\n",
        "d = tf.add(a, b)\n",
        "\n",
        "session = tf.InteractiveSession()\n",
        "session.run(tf.global_variables_initializer())"
      ],
      "execution_count": 0,
      "outputs": []
    },
    {
      "cell_type": "markdown",
      "metadata": {
        "id": "C5ZlWZVAJdpY",
        "colab_type": "text"
      },
      "source": [
        "**这样写是错误的**\n",
        "\n",
        "```python\n",
        "print(a.run())\n",
        "print(b.run())\n",
        "```"
      ]
    },
    {
      "cell_type": "code",
      "metadata": {
        "id": "WTIyu52ZJky3",
        "colab_type": "code",
        "colab": {
          "base_uri": "https://localhost:8080/",
          "height": 51
        },
        "outputId": "bd1247a4-31ef-4049-bb30-af412c1c65a6"
      },
      "source": [
        "print(a.eval())\n",
        "print(b.eval())"
      ],
      "execution_count": 15,
      "outputs": [
        {
          "output_type": "stream",
          "text": [
            "1.0\n",
            "2.0\n"
          ],
          "name": "stdout"
        }
      ]
    },
    {
      "cell_type": "markdown",
      "metadata": {
        "id": "amUtzcVQJqTQ",
        "colab_type": "text"
      },
      "source": [
        "`run()` 方法主要用来"
      ]
    },
    {
      "cell_type": "code",
      "metadata": {
        "id": "Xd3omd7UJsc7",
        "colab_type": "code",
        "colab": {
          "base_uri": "https://localhost:8080/",
          "height": 34
        },
        "outputId": "a787f562-f676-499a-cd74-b2732289abd3"
      },
      "source": [
        "x = tf.Variable(1.2)\n",
        "# print(x.eval()) 还没有初始化，不能这样\n",
        "x.initializer.run() # x.initializer 就是一个初始化 OP，只有 OP 才可以调用 run() 方法\n",
        "print(x.eval())\n",
        "\n",
        "session.close()"
      ],
      "execution_count": 16,
      "outputs": [
        {
          "output_type": "stream",
          "text": [
            "1.2\n"
          ],
          "name": "stdout"
        }
      ]
    }
  ]
}