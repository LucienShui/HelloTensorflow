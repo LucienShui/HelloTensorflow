{
  "nbformat": 4,
  "nbformat_minor": 0,
  "metadata": {
    "colab": {
      "name": "Kaggle Digit Recognizer.ipynb",
      "version": "0.3.2",
      "provenance": [],
      "collapsed_sections": [],
      "machine_shape": "hm"
    },
    "kernelspec": {
      "name": "python3",
      "display_name": "Python 3"
    },
    "accelerator": "GPU"
  },
  "cells": [
    {
      "cell_type": "markdown",
      "metadata": {
        "id": "T9XXs44TtVQ2",
        "colab_type": "text"
      },
      "source": [
        "## Import requirements"
      ]
    },
    {
      "cell_type": "code",
      "metadata": {
        "id": "6edN76pMdClk",
        "colab_type": "code",
        "colab": {}
      },
      "source": [
        "import tensorflow as tf\n",
        "import numpy as np\n",
        "import pandas as pd"
      ],
      "execution_count": 0,
      "outputs": []
    },
    {
      "cell_type": "markdown",
      "metadata": {
        "id": "SfE68BChte7X",
        "colab_type": "text"
      },
      "source": [
        "## Fetch data"
      ]
    },
    {
      "cell_type": "code",
      "metadata": {
        "id": "MaAvz6ihoAwc",
        "colab_type": "code",
        "colab": {}
      },
      "source": [
        "from google.colab import drive"
      ],
      "execution_count": 0,
      "outputs": []
    },
    {
      "cell_type": "code",
      "metadata": {
        "id": "7yqLivt3oEYr",
        "colab_type": "code",
        "outputId": "212b952b-16b8-4196-8b3d-707edbcbd669",
        "colab": {
          "base_uri": "https://localhost:8080/",
          "height": 54
        }
      },
      "source": [
        "drive.mount(\"/google_drive\")"
      ],
      "execution_count": 3,
      "outputs": [
        {
          "output_type": "stream",
          "text": [
            "Drive already mounted at /google_drive; to attempt to forcibly remount, call drive.mount(\"/google_drive\", force_remount=True).\n"
          ],
          "name": "stdout"
        }
      ]
    },
    {
      "cell_type": "code",
      "metadata": {
        "id": "i13WLzmsoolN",
        "colab_type": "code",
        "outputId": "c10b2d60-158a-4499-c761-5dc5c87a643b",
        "colab": {
          "base_uri": "https://localhost:8080/",
          "height": 51
        }
      },
      "source": [
        "!ln -s /google_drive/My\\ Drive/datasets ~/datasets\n",
        "!ls ~/datasets"
      ],
      "execution_count": 4,
      "outputs": [
        {
          "output_type": "stream",
          "text": [
            "ln: failed to create symbolic link '/root/datasets/datasets': Function not implemented\n",
            "digit-recognizer\n"
          ],
          "name": "stdout"
        }
      ]
    },
    {
      "cell_type": "code",
      "metadata": {
        "id": "wPFHQAj_aNSB",
        "colab_type": "code",
        "colab": {
          "base_uri": "https://localhost:8080/",
          "height": 643
        },
        "outputId": "ba16398e-f01d-418a-e3a5-2ed9c83e8bce"
      },
      "source": [
        "import tensorflow as tf\n",
        "import matplotlib.pyplot as plt\n",
        "import numpy as np\n",
        "import pandas as pd\n",
        "\n",
        "train_data_file = \"~/datasets/digit-recognizer/train.csv\"\n",
        "kaggle_submit_data_file = \"~/datasets/digit-recognizer/test.csv\"\n",
        "\n",
        "raw_dataset = pd.read_csv(train_data_file, sep=\",\").values\n",
        "raw_kaggle_submit_dataset = pd.read_csv(kaggle_submit_data_file, sep=\",\").values\n",
        "\n",
        "total_size = raw_dataset.shape[0]\n",
        "split_point = [total_size * 6 // 10, total_size * 8 // 10]\n",
        "\n",
        "raw_train_dataset = raw_dataset[: split_point[0]]\n",
        "raw_validate_dataset = raw_dataset[split_point[0]: split_point[1]]\n",
        "raw_test_dataset = raw_dataset[split_point[1]:]\n",
        "\n",
        "\n",
        "def dense2one_hot(label_dense: np.ndarray, classes_count: int) -> np.ndarray:\n",
        "    num_label = label_dense.shape[0]\n",
        "    index_offset = np.arange(num_label) * classes_count\n",
        "    label_one_hot = np.zeros(shape=[num_label, classes_count], dtype=np.int)\n",
        "    label_one_hot.flat[index_offset + label_dense.ravel()] = 1\n",
        "    return label_one_hot\n",
        "\n",
        "\n",
        "def parse_dataset(dataset: np.ndarray) -> (np.ndarray, np.ndarray):\n",
        "    label = dataset[:, : 1].astype(np.int)\n",
        "    classes_count = np.unique(label).shape[0]\n",
        "    return dataset[:, 1:].astype(np.float32) / 255.0, dense2one_hot(label, classes_count).astype(np.float32)\n",
        "\n",
        "\n",
        "datasets = {\n",
        "    \"train\": {},\n",
        "    \"validation\": {},\n",
        "    \"test\": {}\n",
        "}\n",
        "\n",
        "datasets[\"train\"][\"input\"], datasets[\"train\"][\"label\"] = parse_dataset(raw_train_dataset)\n",
        "datasets[\"validation\"][\"input\"], datasets[\"validation\"][\"label\"] = parse_dataset(raw_validate_dataset)\n",
        "datasets[\"test\"][\"input\"], datasets[\"test\"][\"label\"] = parse_dataset(raw_test_dataset)\n",
        "\n",
        "for key in [\"train\", \"validation\", \"test\"]:\n",
        "    print(\"{} -> input: {}, label: {}\".format(key, datasets[key][\"input\"].shape, datasets[key][\"label\"].shape))\n",
        "\n",
        "\n",
        "def plot_digit(pixels):\n",
        "    plt.imshow(pixels.reshape(28, 28))\n",
        "    plt.show()\n",
        "\n",
        "\n",
        "plot_digit(datasets[\"test\"][\"input\"][0, :])\n",
        "\n",
        "layer_information = {\n",
        "    \"fc_0\": {\n",
        "        \"weight\": {\n",
        "            \"shape\": [784, 1024],\n",
        "            \"initializer\": tf.truncated_normal_initializer(stddev=0.1),\n",
        "            \"dtype\": tf.float32\n",
        "        },\n",
        "        \"bias\": {\n",
        "            \"shape\": [1024],\n",
        "            \"initializer\": tf.constant_initializer(value=0.1),\n",
        "            \"dtype\": tf.float32\n",
        "        },\n",
        "        \"activation\": tf.nn.relu\n",
        "    },\n",
        "    \"fc_1\": {\n",
        "        \"weight\": {\n",
        "            \"shape\": [1024, 10],\n",
        "            \"initializer\": tf.truncated_normal_initializer(stddev=0.1),\n",
        "            \"dtype\": tf.float32\n",
        "        },\n",
        "        \"bias\": {\n",
        "            \"shape\": [10],\n",
        "            \"initializer\": tf.constant_initializer(value=0.1),\n",
        "            \"dtype\": tf.float32\n",
        "        },\n",
        "        \"activation\": tf.nn.softmax\n",
        "    }\n",
        "}\n",
        "\n",
        "with tf.Graph().as_default():\n",
        "    INPUT = tf.placeholder(dtype=tf.float32, shape=[None, 784])\n",
        "    LABEL = tf.placeholder(dtype=tf.float32, shape=[None, 10])\n",
        "\n",
        "    previous_output = INPUT\n",
        "\n",
        "    for namespace in layer_information:\n",
        "        layer = layer_information[namespace]\n",
        "        with tf.variable_scope(namespace, reuse=tf.AUTO_REUSE):\n",
        "            weight = tf.get_variable(\"weight\",\n",
        "                                     shape=layer[\"weight\"][\"shape\"],\n",
        "                                     initializer=layer[\"weight\"][\"initializer\"],\n",
        "                                     dtype=layer[\"weight\"][\"dtype\"])\n",
        "            bias = tf.get_variable(\"bias\",\n",
        "                                   shape=layer[\"bias\"][\"shape\"],\n",
        "                                   initializer=layer[\"bias\"][\"initializer\"],\n",
        "                                   dtype=layer[\"bias\"][\"dtype\"])\n",
        "            previous_output = layer[\"activation\"](tf.add(tf.matmul(previous_output, weight), bias))\n",
        "\n",
        "    cross_entropy = -tf.reduce_sum(LABEL * tf.log(previous_output))\n",
        "    train_step = tf.train.AdamOptimizer(1e-4).minimize(cross_entropy)\n",
        "\n",
        "    correct_prediction = tf.equal(tf.argmax(previous_output, 1), tf.argmax(LABEL, 1))\n",
        "    accuracy = tf.reduce_mean(tf.cast(correct_prediction, tf.float32))\n",
        "\n",
        "    TRAIN_SIZE = datasets['train']['input'].shape[0]\n",
        "    BATCH_SIZE = 32\n",
        "    EPOCH = 16\n",
        "    TRAIN_STEPS = TRAIN_SIZE // BATCH_SIZE\n",
        "\n",
        "    print(\"TRAIN_SIZE = {}, BATCH_SIZE = {}, EPOCH = {}, TRAIN_STEPS = {}\".\n",
        "          format(TRAIN_SIZE, BATCH_SIZE, EPOCH, TRAIN_STEPS))\n",
        "\n",
        "    with tf.Session() as session:\n",
        "        session.run(tf.global_variables_initializer())\n",
        "        session.graph.finalize()\n",
        "        summary_writer = tf.compat.v1.summary.FileWriter(\"./log/\", session.graph)\n",
        "\n",
        "        for i in range(EPOCH):\n",
        "            np.random.shuffle(raw_train_dataset)\n",
        "            input_data, label_data = parse_dataset(raw_train_dataset)\n",
        "\n",
        "            for j in range(TRAIN_STEPS):\n",
        "                lower = j * BATCH_SIZE\n",
        "                upper = (j + 1) * BATCH_SIZE\n",
        "                batch_input = input_data[lower: upper]\n",
        "                batch_label = label_data[lower: upper]\n",
        "\n",
        "                session.run(train_step, {\n",
        "                    INPUT: batch_input,\n",
        "                    LABEL: batch_label\n",
        "                })\n",
        "\n",
        "            print(\"epoch = %2d, training accuracy = %g\" % (i + 1, session.run(accuracy, {\n",
        "                INPUT: input_data,\n",
        "                LABEL: label_data\n",
        "            })))\n",
        "\n",
        "            if (i + 1) % 8 == 0:\n",
        "                print(\"+ epoch = %2d, testing accuracy = %g +\" % (i + 1, session.run(accuracy, {\n",
        "                    INPUT: datasets[\"test\"][\"input\"],\n",
        "                    LABEL: datasets[\"test\"][\"label\"]\n",
        "                })))\n"
      ],
      "execution_count": 5,
      "outputs": [
        {
          "output_type": "stream",
          "text": [
            "train -> input: (25200, 784), label: (25200, 10)\n",
            "validation -> input: (8400, 784), label: (8400, 10)\n",
            "test -> input: (8400, 784), label: (8400, 10)\n"
          ],
          "name": "stdout"
        },
        {
          "output_type": "display_data",
          "data": {
            "image/png": "[encoded data removed]",
            "text/plain": [
              "<Figure size 432x288 with 1 Axes>"
            ]
          },
          "metadata": {
            "tags": []
          }
        },
        {
          "output_type": "stream",
          "text": [
            "TRAIN_SIZE = 25200, BATCH_SIZE = 32, EPOCH = 16, TRAIN_STEPS = 787\n",
            "epoch =  1, training accuracy = 0.921548\n",
            "epoch =  2, training accuracy = 0.95004\n",
            "epoch =  3, training accuracy = 0.960754\n",
            "epoch =  4, training accuracy = 0.969524\n",
            "epoch =  5, training accuracy = 0.977103\n",
            "epoch =  6, training accuracy = 0.98246\n",
            "epoch =  7, training accuracy = 0.986349\n",
            "epoch =  8, training accuracy = 0.98881\n",
            "+ epoch =  8, testing accuracy = 0.964643 +\n",
            "epoch =  9, training accuracy = 0.990794\n",
            "epoch = 10, training accuracy = 0.994127\n",
            "epoch = 11, training accuracy = 0.995397\n",
            "epoch = 12, training accuracy = 0.996825\n",
            "epoch = 13, training accuracy = 0.997302\n",
            "epoch = 14, training accuracy = 0.998175\n",
            "epoch = 15, training accuracy = 0.998214\n",
            "epoch = 16, training accuracy = 0.999524\n",
            "+ epoch = 16, testing accuracy = 0.97131 +\n"
          ],
          "name": "stdout"
        }
      ]
    }
  ]
}