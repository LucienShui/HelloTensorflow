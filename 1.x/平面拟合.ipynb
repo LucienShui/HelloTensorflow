{
  "nbformat": 4,
  "nbformat_minor": 0,
  "metadata": {
    "colab": {
      "name": "平面拟合.ipynb",
      "version": "0.3.2",
      "provenance": [],
      "collapsed_sections": []
    },
    "kernelspec": {
      "name": "python3",
      "display_name": "Python 3"
    },
    "accelerator": "GPU"
  },
  "cells": [
    {
      "cell_type": "markdown",
      "metadata": {
        "id": "yL4s8_Kk9wpk",
        "colab_type": "text"
      },
      "source": [
        "# 平面拟合\n",
        "\n",
        "通过本例可以看到机器学习的一个通用过程：\n",
        "1. 准备数据\n",
        "2. 构造模型（设置求解目标函数）\n",
        "3. 求解模型"
      ]
    },
    {
      "cell_type": "code",
      "metadata": {
        "id": "MMFniG-xgLVE",
        "colab_type": "code",
        "colab": {}
      },
      "source": [
        "import tensorflow as tf\n",
        "import numpy as np"
      ],
      "execution_count": 0,
      "outputs": []
    },
    {
      "cell_type": "markdown",
      "metadata": {
        "id": "ymcoNfCbgdYM",
        "colab_type": "text"
      },
      "source": [
        "## 1. 准备数据\n",
        "\n",
        "使用 `NumPy` 生成假数据，总共 $100$ 个点"
      ]
    },
    {
      "cell_type": "code",
      "metadata": {
        "id": "aZfIKK0ggbx8",
        "colab_type": "code",
        "colab": {}
      },
      "source": [
        "x_data = np.float32(np.random.rand(2, 100)) # TODO 这里为什么是 [2, 100] 而不是 [100, 2]\n",
        "y_data = np.dot([0.1, 0.2], x_data) + 0.3"
      ],
      "execution_count": 0,
      "outputs": []
    },
    {
      "cell_type": "markdown",
      "metadata": {
        "id": "vMJJ7Fhgg4Wz",
        "colab_type": "text"
      },
      "source": [
        "## 2. 构造一个线性模型"
      ]
    },
    {
      "cell_type": "code",
      "metadata": {
        "id": "XVLQTuG8g8jD",
        "colab_type": "code",
        "colab": {}
      },
      "source": [
        "bias = tf.Variable(tf.zeros([1]))\n",
        "weight = tf.Variable(tf.random_uniform([1, 2], minval=-1.0, maxval=1.0, dtype=tf.float32)) # 返回一个 [1, 2] 的 Tensor，最小值为 -1, 最大值为 1\n",
        "output = tf.matmul(weight, x_data) + bias"
      ],
      "execution_count": 0,
      "outputs": []
    },
    {
      "cell_type": "markdown",
      "metadata": {
        "id": "PyX_c0xKhMmx",
        "colab_type": "text"
      },
      "source": [
        "## 3. 模型目标"
      ]
    },
    {
      "cell_type": "markdown",
      "metadata": {
        "id": "8klMSLBzhPJo",
        "colab_type": "text"
      },
      "source": [
        "### 3.1 设置损失函数\n",
        "\n",
        "误差的均方差"
      ]
    },
    {
      "cell_type": "code",
      "metadata": {
        "id": "_TktogcqhUHV",
        "colab_type": "code",
        "colab": {}
      },
      "source": [
        "loss = tf.reduce_mean(tf.square(output - y_data))"
      ],
      "execution_count": 0,
      "outputs": []
    },
    {
      "cell_type": "markdown",
      "metadata": {
        "id": "-8eKABx-hcxw",
        "colab_type": "text"
      },
      "source": [
        "### 3.2 选择梯度下降的方法"
      ]
    },
    {
      "cell_type": "code",
      "metadata": {
        "id": "_Q68QSrXhgF7",
        "colab_type": "code",
        "colab": {}
      },
      "source": [
        "optimizer = tf.train.GradientDescentOptimizer(0.5) # learning_rate = 0.5"
      ],
      "execution_count": 0,
      "outputs": []
    },
    {
      "cell_type": "markdown",
      "metadata": {
        "id": "AJZwDV8MhlbC",
        "colab_type": "text"
      },
      "source": [
        "### 3.3 迭代的目标\n",
        "\n",
        "最小化损失函数"
      ]
    },
    {
      "cell_type": "code",
      "metadata": {
        "id": "Jk34ebAthowU",
        "colab_type": "code",
        "colab": {}
      },
      "source": [
        "train = optimizer.minimize(loss)"
      ],
      "execution_count": 0,
      "outputs": []
    },
    {
      "cell_type": "markdown",
      "metadata": {
        "id": "JQj-6zYciCOs",
        "colab_type": "text"
      },
      "source": [
        "## 4. 求解模型"
      ]
    },
    {
      "cell_type": "markdown",
      "metadata": {
        "id": "qPre1urUiEc3",
        "colab_type": "text"
      },
      "source": [
        "### 4.1 初始化变量\n",
        "\n",
        "Tensorflow 的必备步骤，只要声明了变量，就必须初始化才能使用\n",
        "\n"
      ]
    },
    {
      "cell_type": "code",
      "metadata": {
        "id": "Z6UVwm0XiJAh",
        "colab_type": "code",
        "colab": {}
      },
      "source": [
        "init = tf.global_variables_initializer()"
      ],
      "execution_count": 0,
      "outputs": []
    },
    {
      "cell_type": "markdown",
      "metadata": {
        "id": "afsuJ-kkicUD",
        "colab_type": "text"
      },
      "source": [
        "### 4.2 设置 Tensorflow 对 GPU 的使用按需分配"
      ]
    },
    {
      "cell_type": "code",
      "metadata": {
        "id": "1fjlDINyihno",
        "colab_type": "code",
        "colab": {}
      },
      "source": [
        "config = tf.ConfigProto()\n",
        "config.gpu_options.allow_growth = True"
      ],
      "execution_count": 0,
      "outputs": []
    },
    {
      "cell_type": "markdown",
      "metadata": {
        "id": "iKKQmi82iotk",
        "colab_type": "text"
      },
      "source": [
        "### 4.3 启动图（$Graph$）并迭代"
      ]
    },
    {
      "cell_type": "code",
      "metadata": {
        "id": "vA0Q4KhRi2EU",
        "colab_type": "code",
        "outputId": "c1294620-d79c-4df7-d8e8-3a89b08bff84",
        "colab": {
          "base_uri": "https://localhost:8080/",
          "height": 204
        }
      },
      "source": [
        "with tf.Session(config=config) as session:\n",
        "    session.run(init)\n",
        "    \n",
        "    for step in range(201):\n",
        "        session.run(train)\n",
        "        if step % 20 == 0:\n",
        "            print(step, session.run(weight), session.run(bias))"
      ],
      "execution_count": 9,
      "outputs": [
        {
          "output_type": "stream",
          "text": [
            "0 [[ 0.08388144 -0.13649333]] [1.1112678]\n",
            "20 [[0.00418105 0.04886648]] [0.43241617]\n",
            "40 [[0.06241656 0.1572035 ]] [0.34258783]\n",
            "60 [[0.08628269 0.187366  ]] [0.3138501]\n",
            "80 [[0.09517892 0.19614099]] [0.30453798]\n",
            "100 [[0.09834171 0.19879013]] [0.30149427]\n",
            "120 [[0.09943689 0.19961344]] [0.30049363]\n",
            "140 [[0.09981029 0.19987483]] [0.30016342]\n",
            "160 [[0.0999364 0.1999591]] [0.3000542]\n",
            "180 [[0.09997875 0.19998656]] [0.30001798]\n",
            "200 [[0.09999291 0.19999556]] [0.300006]\n"
          ],
          "name": "stdout"
        }
      ]
    }
  ]
}