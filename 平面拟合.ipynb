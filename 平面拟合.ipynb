{
  "nbformat": 4,
  "nbformat_minor": 0,
  "metadata": {
    "colab": {
      "name": "平面拟合.ipynb",
      "version": "0.3.2",
      "provenance": [],
      "collapsed_sections": []
    },
    "kernelspec": {
      "name": "python3",
      "display_name": "Python 3"
    },
    "accelerator": "GPU"
  },
  "cells": [
    {
      "cell_type": "code",
      "metadata": {
        "id": "MMFniG-xgLVE",
        "colab_type": "code",
        "colab": {}
      },
      "source": [
        "import tensorflow as tf\n",
        "import numpy as np"
      ],
      "execution_count": 0,
      "outputs": []
    },
    {
      "cell_type": "markdown",
      "metadata": {
        "id": "ymcoNfCbgdYM",
        "colab_type": "text"
      },
      "source": [
        "## 1. 准备数据\n",
        "\n",
        "使用 `NumPy` 生成假数据，总共 $100$ 个点"
      ]
    },
    {
      "cell_type": "code",
      "metadata": {
        "id": "aZfIKK0ggbx8",
        "colab_type": "code",
        "colab": {}
      },
      "source": [
        "x_data = np.float32(np.random.rand(2, 100)) # TODO 这里为什么是 [2, 100] 而不是 [100, 2]\n",
        "y_data = np.dot([0.1, 0.2], x_data) + 0.3"
      ],
      "execution_count": 0,
      "outputs": []
    },
    {
      "cell_type": "markdown",
      "metadata": {
        "id": "vMJJ7Fhgg4Wz",
        "colab_type": "text"
      },
      "source": [
        "## 2. 构造一个线性模型"
      ]
    },
    {
      "cell_type": "code",
      "metadata": {
        "id": "XVLQTuG8g8jD",
        "colab_type": "code",
        "colab": {}
      },
      "source": [
        "bias = tf.Variable(tf.zeros([1]))\n",
        "weight = tf.Variable(tf.random_uniform([1, 2], minval=-1.0, maxval=1.0, dtype=tf.float32)) # 返回一个 [1, 2] 的 Tensor，最小值为 -1, 最大值为 1\n",
        "output = tf.matmul(weight, x_data) + bias"
      ],
      "execution_count": 0,
      "outputs": []
    },
    {
      "cell_type": "markdown",
      "metadata": {
        "id": "PyX_c0xKhMmx",
        "colab_type": "text"
      },
      "source": [
        "## 3. 模型目标"
      ]
    },
    {
      "cell_type": "markdown",
      "metadata": {
        "id": "8klMSLBzhPJo",
        "colab_type": "text"
      },
      "source": [
        "### 3.1 设置损失函数\n",
        "\n",
        "误差的均方差"
      ]
    },
    {
      "cell_type": "code",
      "metadata": {
        "id": "_TktogcqhUHV",
        "colab_type": "code",
        "colab": {}
      },
      "source": [
        "loss = tf.reduce_mean(tf.square(output - y_data))"
      ],
      "execution_count": 0,
      "outputs": []
    },
    {
      "cell_type": "markdown",
      "metadata": {
        "id": "-8eKABx-hcxw",
        "colab_type": "text"
      },
      "source": [
        "### 3.2 选择梯度下降的方法"
      ]
    },
    {
      "cell_type": "code",
      "metadata": {
        "id": "_Q68QSrXhgF7",
        "colab_type": "code",
        "colab": {}
      },
      "source": [
        "optimizer = tf.train.GradientDescentOptimizer(0.5) # learning_rate = 0.5"
      ],
      "execution_count": 0,
      "outputs": []
    },
    {
      "cell_type": "markdown",
      "metadata": {
        "id": "AJZwDV8MhlbC",
        "colab_type": "text"
      },
      "source": [
        "### 3.3 迭代的目标\n",
        "\n",
        "最小化损失函数"
      ]
    },
    {
      "cell_type": "code",
      "metadata": {
        "id": "Jk34ebAthowU",
        "colab_type": "code",
        "colab": {}
      },
      "source": [
        "train = optimizer.minimize(loss)"
      ],
      "execution_count": 0,
      "outputs": []
    },
    {
      "cell_type": "markdown",
      "metadata": {
        "id": "JQj-6zYciCOs",
        "colab_type": "text"
      },
      "source": [
        "## 4. 求解模型"
      ]
    },
    {
      "cell_type": "markdown",
      "metadata": {
        "id": "qPre1urUiEc3",
        "colab_type": "text"
      },
      "source": [
        "### 4.1 初始化变量\n",
        "\n",
        "Tensorflow 的必备步骤，只要声明了变量，就必须初始化才能使用\n",
        "\n"
      ]
    },
    {
      "cell_type": "code",
      "metadata": {
        "id": "Z6UVwm0XiJAh",
        "colab_type": "code",
        "colab": {}
      },
      "source": [
        "init = tf.global_variables_initializer()"
      ],
      "execution_count": 0,
      "outputs": []
    },
    {
      "cell_type": "markdown",
      "metadata": {
        "id": "afsuJ-kkicUD",
        "colab_type": "text"
      },
      "source": [
        "### 4.2 设置 Tensorflow 对 GPU 的使用按需分配"
      ]
    },
    {
      "cell_type": "code",
      "metadata": {
        "id": "1fjlDINyihno",
        "colab_type": "code",
        "colab": {}
      },
      "source": [
        "config = tf.ConfigProto()\n",
        "config.gpu_options.allow_growth = True"
      ],
      "execution_count": 0,
      "outputs": []
    },
    {
      "cell_type": "markdown",
      "metadata": {
        "id": "iKKQmi82iotk",
        "colab_type": "text"
      },
      "source": [
        "### 4.3 启动图（$Graph$）并迭代"
      ]
    },
    {
      "cell_type": "code",
      "metadata": {
        "id": "vA0Q4KhRi2EU",
        "colab_type": "code",
        "colab": {
          "base_uri": "https://localhost:8080/",
          "height": 215
        },
        "outputId": "cc9de79b-22ae-48e6-c965-4d478b5d1d82"
      },
      "source": [
        "with tf.Session(config=config) as session:\n",
        "    session.run(init)\n",
        "    \n",
        "    for step in range(201):\n",
        "        session.run(train)\n",
        "        if step % 20 == 0:\n",
        "            print(step, session.run(weight), session.run(bias))"
      ],
      "execution_count": 11,
      "outputs": [
        {
          "output_type": "stream",
          "text": [
            "0 [[ 0.32616043 -0.2553953 ]] [1.0978171]\n",
            "20 [[0.05449744 0.03167257]] [0.41898525]\n",
            "40 [[0.07451796 0.15659845]] [0.33830485]\n",
            "60 [[0.08902136 0.18816637]] [0.31268066]\n",
            "80 [[0.09571411 0.19658488]] [0.30427966]\n",
            "100 [[0.09840477 0.19896212]] [0.30146304]\n",
            "120 [[0.09942135 0.1996709 ]] [0.30050433]\n",
            "140 [[0.09979317 0.19989221]] [0.3001748]\n",
            "160 [[0.09992672 0.1999639 ]] [0.30006078]\n",
            "180 [[0.09997418 0.19998772]] [0.30002117]\n",
            "200 [[0.09999092 0.19999577]] [0.3000074]\n"
          ],
          "name": "stdout"
        }
      ]
    }
  ]
}