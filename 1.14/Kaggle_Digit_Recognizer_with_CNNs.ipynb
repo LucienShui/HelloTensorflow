{
  "nbformat": 4,
  "nbformat_minor": 0,
  "metadata": {
    "colab": {
      "name": "Kaggle Digit Recognizer with CNNs.ipynb",
      "version": "0.3.2",
      "provenance": []
    },
    "kernelspec": {
      "name": "python3",
      "display_name": "Python 3"
    },
    "accelerator": "GPU"
  },
  "cells": [
    {
      "cell_type": "code",
      "metadata": {
        "id": "plR81b6ECtBc",
        "colab_type": "code",
        "colab": {
          "base_uri": "https://localhost:8080/",
          "height": 139
        },
        "outputId": "258f79c6-848c-469c-f312-954fb21ac4d2"
      },
      "source": [
        "from google.colab import drive\n",
        "drive.mount(\"/google_drive\")\n",
        "!ln -s /google_drive/My\\ Drive/datasets ~/datasets\n",
        "!ls ~/datasets"
      ],
      "execution_count": 1,
      "outputs": [
        {
          "output_type": "stream",
          "text": [
            "Go to this URL in a browser: https://accounts.google.com/o/oauth2/auth?client_id=947318989803-6bn6qk8qdgf4n4g3pfee6491hc0brc4i.apps.googleusercontent.com&redirect_uri=urn%3Aietf%3Awg%3Aoauth%3A2.0%3Aoob&scope=email%20https%3A%2F%2Fwww.googleapis.com%2Fauth%2Fdocs.test%20https%3A%2F%2Fwww.googleapis.com%2Fauth%2Fdrive%20https%3A%2F%2Fwww.googleapis.com%2Fauth%2Fdrive.photos.readonly%20https%3A%2F%2Fwww.googleapis.com%2Fauth%2Fpeopleapi.readonly&response_type=code\n",
            "\n",
            "Enter your authorization code:\n",
            "··········\n",
            "Mounted at /google_drive\n",
            "digit-recognizer\n"
          ],
          "name": "stdout"
        }
      ]
    },
    {
      "cell_type": "code",
      "metadata": {
        "id": "IpbgIUV6D59V",
        "colab_type": "code",
        "colab": {
          "base_uri": "https://localhost:8080/",
          "height": 405
        },
        "outputId": "f4c5fc26-b20e-47fd-f70e-74054ed75c5e"
      },
      "source": [
        "import tensorflow as tf\n",
        "import matplotlib.pyplot as plt\n",
        "import numpy as np\n",
        "import pandas as pd\n",
        "\n",
        "train_data_file = \"~/datasets/digit-recognizer/train.csv\"\n",
        "kaggle_submit_data_file = \"~/datasets/digit-recognizer/test.csv\"\n",
        "\n",
        "raw_dataset = pd.read_csv(train_data_file, sep=\",\").values\n",
        "raw_kaggle_submit_dataset = pd.read_csv(kaggle_submit_data_file, sep=\",\").values\n",
        "\n",
        "total_size = raw_dataset.shape[0]\n",
        "split_point = [total_size * 6 // 10, total_size * 8 // 10]\n",
        "\n",
        "raw_train_dataset = raw_dataset[: split_point[0]]\n",
        "raw_validate_dataset = raw_dataset[split_point[0]: split_point[1]]\n",
        "raw_test_dataset = raw_dataset[split_point[1]:]\n",
        "\n",
        "\n",
        "def dense2one_hot(label_dense: np.ndarray, classes_count: int) -> np.ndarray:\n",
        "    num_label = label_dense.shape[0]\n",
        "    index_offset = np.arange(num_label) * classes_count\n",
        "    label_one_hot = np.zeros(shape=[num_label, classes_count], dtype=np.int)\n",
        "    label_one_hot.flat[index_offset + label_dense.ravel()] = 1\n",
        "    return label_one_hot\n",
        "\n",
        "\n",
        "def parse_dataset(dataset: np.ndarray) -> (np.ndarray, np.ndarray):\n",
        "    label = dataset[:, : 1].astype(np.int)\n",
        "    classes_count = np.unique(label).shape[0]\n",
        "    return dataset[:, 1:].astype(np.float32).reshape(-1, 28, 28, 1) / 255.0, dense2one_hot(label, classes_count).astype(np.float32)\n",
        "\n",
        "\n",
        "datasets = {\n",
        "    \"train\": {},\n",
        "    \"validation\": {},\n",
        "    \"test\": {}\n",
        "}\n",
        "\n",
        "datasets[\"train\"][\"input\"], datasets[\"train\"][\"label\"] = parse_dataset(raw_train_dataset)\n",
        "datasets[\"validation\"][\"input\"], datasets[\"validation\"][\"label\"] = parse_dataset(raw_validate_dataset)\n",
        "datasets[\"test\"][\"input\"], datasets[\"test\"][\"label\"] = parse_dataset(raw_test_dataset)\n",
        "\n",
        "for key in [\"train\", \"validation\", \"test\"]:\n",
        "    print(\"{} -> input: {}, label: {}\".format(key, datasets[key][\"input\"].shape, datasets[key][\"label\"].shape))\n",
        "\n",
        "\n",
        "def plot_digit(pixels):\n",
        "    plt.imshow(pixels.reshape(28, 28))\n",
        "    plt.show()\n",
        "\n",
        "\n",
        "plot_digit(datasets[\"test\"][\"input\"][0, :])\n",
        "\n",
        "with tf.Graph().as_default():\n",
        "    INPUT = tf.placeholder(dtype=tf.float32, shape=[None, 28, 28, 1])\n",
        "    LABEL = tf.placeholder(dtype=tf.float32, shape=[None, 10])\n",
        "\n",
        "    previous_output = INPUT\n",
        "\n",
        "    def create_network(num):\n",
        "        global previous_output\n",
        "        _weight = tf.get_variable(\"weight\", shape=[5, 5, 1, num], dtype=tf.float32,\n",
        "                                  initializer=tf.truncated_normal_initializer(stddev=0.1))\n",
        "        _bias = tf.get_variable(\"bias\", shape=[num], dtype=tf.float32,\n",
        "                                initializer=tf.constant_initializer(value=0.1))\n",
        "        conv = tf.nn.conv2d(previous_output, _weight, strides=[1, 1, 1, 1], padding=\"SAME\")\n",
        "        active = tf.nn.relu(tf.add(conv, _bias))\n",
        "        previous_output = tf.nn.max_pool(active, ksize=[1, 2, 2, 1], strides=[1, 2, 2, 1], padding=\"SAME\")\n",
        "\n",
        "    for i in range(2):\n",
        "        with tf.variable_scope(\"conv_%d\" % i):\n",
        "            create_network(32 << i)\n",
        "\n",
        "    with tf.variable_scope(\"fc_0\"):\n",
        "        flatten = tf.reshape(previous_output, [-1, 7 * 7 * 64])\n",
        "        weight = tf.get_variable(\"weight\", shape=[7 * 7 * 64, 1024], dtype=tf.float32,\n",
        "                                 initializer=tf.truncated_normal_initializer(stddev=0.1))\n",
        "        bias = tf.get_variable(\"bias\", shape=[1024], dtype=tf.float32,\n",
        "                               initializer=tf.constant_initializer(value=0.1))\n",
        "        previous_output = tf.nn.relu(tf.add(tf.matmul(flatten, weight), bias))\n",
        "\n",
        "    # dropout\n",
        "    rate = tf.placeholder(dtype=tf.float32)\n",
        "    previous_output = tf.nn.dropout(previous_output, rate=rate)\n",
        "\n",
        "    with tf.variable_scope(\"fc_1\"):\n",
        "        weight = tf.get_variable(\"weight\", shape=[1024, 10], dtype=tf.float32,\n",
        "                                 initializer=tf.truncated_normal_initializer(stddev=0.1))\n",
        "        bias = tf.get_variable(\"bias\", shape=[10], dtype=tf.float32, initializer=tf.constant_initializer(value=0.1))\n",
        "        previous_output = tf.nn.softmax(tf.add(tf.matmul(previous_output, weight), bias))\n",
        "\n",
        "    cross_entropy = -tf.reduce_sum(LABEL * tf.log(previous_output))\n",
        "    train_step = tf.train.AdamOptimizer(1e-4).minimize(cross_entropy)\n",
        "\n",
        "    correct_prediction = tf.equal(tf.argmax(previous_output, 1), tf.argmax(LABEL, 1))\n",
        "    accuracy = tf.reduce_mean(tf.cast(correct_prediction, tf.float32))\n",
        "\n",
        "    TRAIN_SIZE = datasets['train']['input'].shape[0]\n",
        "    BATCH_SIZE = 32\n",
        "    EPOCH = 8\n",
        "    TRAIN_STEPS = TRAIN_SIZE // BATCH_SIZE\n",
        "\n",
        "    print(\"TRAIN_SIZE = {}, BATCH_SIZE = {}, EPOCH = {}, TRAIN_STEPS = {}\".\n",
        "          format(TRAIN_SIZE, BATCH_SIZE, EPOCH, TRAIN_STEPS))\n",
        "\n",
        "    with tf.Session() as session:\n",
        "        session.run(tf.global_variables_initializer())\n",
        "        session.graph.finalize()\n",
        "        summary_writer = tf.compat.v1.summary.FileWriter(\"./log/\", session.graph)\n",
        "\n",
        "        for i in range(EPOCH):\n",
        "            np.random.shuffle(raw_train_dataset)\n",
        "            input_data, label_data = parse_dataset(raw_train_dataset)\n",
        "\n",
        "            for j in range(TRAIN_STEPS):\n",
        "                lower = j * BATCH_SIZE\n",
        "                upper = (j + 1) * BATCH_SIZE\n",
        "                batch_input = input_data[lower: upper]\n",
        "                batch_label = label_data[lower: upper]\n",
        "\n",
        "                session.run(train_step, {\n",
        "                    INPUT: batch_input,\n",
        "                    LABEL: batch_label,\n",
        "                    rate: 0.5\n",
        "                })\n",
        "\n",
        "            if (i + 1) % 2 == 0:\n",
        "                train_acc, train_cost = session.run([accuracy, cross_entropy], {\n",
        "                    INPUT: input_data,\n",
        "                    LABEL: label_data,\n",
        "                    rate: 0.0\n",
        "                })\n",
        "\n",
        "                test_acc, test_cost = session.run([accuracy, cross_entropy], {\n",
        "                    INPUT: datasets[\"test\"][\"input\"],\n",
        "                    LABEL: datasets[\"test\"][\"label\"],\n",
        "                    rate: 0.0\n",
        "                })\n",
        "                print(\"epoch = %2d, train cost = %g, train accuracy = %g, test cost = %g, test accuracy = %g\" % (\n",
        "                    i + 1, train_cost, train_acc, test_cost, test_acc))\n"
      ],
      "execution_count": 6,
      "outputs": [
        {
          "output_type": "stream",
          "text": [
            "train -> input: (25200, 28, 28, 1), label: (25200, 10)\n",
            "validation -> input: (8400, 28, 28, 1), label: (8400, 10)\n",
            "test -> input: (8400, 28, 28, 1), label: (8400, 10)\n"
          ],
          "name": "stdout"
        },
        {
          "output_type": "display_data",
          "data": {
            "image/png": "[encoded data removed]",
            "text/plain": [
              "<Figure size 432x288 with 1 Axes>"
            ]
          },
          "metadata": {
            "tags": []
          }
        },
        {
          "output_type": "stream",
          "text": [
            "TRAIN_SIZE = 25200, BATCH_SIZE = 32, EPOCH = 8, TRAIN_STEPS = 787\n",
            "epoch =  2, train cost = 4269.11, train accuracy = 0.951746, test cost = 1421.91, test accuracy = 0.952381\n",
            "epoch =  4, train cost = 2623.45, train accuracy = 0.969921, test cost = 926.839, test accuracy = 0.96869\n",
            "epoch =  6, train cost = 1735.5, train accuracy = 0.980357, test cost = 664.912, test accuracy = 0.976548\n",
            "epoch =  8, train cost = 1234.52, train accuracy = 0.985913, test cost = 515.617, test accuracy = 0.980476\n"
          ],
          "name": "stdout"
        }
      ]
    }
  ]
}