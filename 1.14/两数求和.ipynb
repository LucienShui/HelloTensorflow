{
  "nbformat": 4,
  "nbformat_minor": 0,
  "metadata": {
    "colab": {
      "name": "两数求和.ipynb",
      "version": "0.3.2",
      "provenance": [],
      "collapsed_sections": []
    },
    "kernelspec": {
      "name": "python3",
      "display_name": "Python 3"
    },
    "accelerator": "GPU"
  },
  "cells": [
    {
      "cell_type": "code",
      "metadata": {
        "id": "Zv6Zy3Ynkw6y",
        "colab_type": "code",
        "colab": {}
      },
      "source": [
        "import tensorflow as tf\n",
        "import numpy as np"
      ],
      "execution_count": 0,
      "outputs": []
    },
    {
      "cell_type": "code",
      "metadata": {
        "id": "KHXr1MYnk2gr",
        "colab_type": "code",
        "colab": {}
      },
      "source": [
        "inputs = []\n",
        "\n",
        "for i in range(1, 4):\n",
        "    inputs.append(tf.constant(float(i)))"
      ],
      "execution_count": 0,
      "outputs": []
    },
    {
      "cell_type": "code",
      "metadata": {
        "id": "Z9DPc5iUl6yw",
        "colab_type": "code",
        "colab": {}
      },
      "source": [
        "add_buffer = tf.add(inputs[0], inputs[1])\n",
        "mul_buffer = tf.multiply(inputs[1], inputs[2])"
      ],
      "execution_count": 0,
      "outputs": []
    },
    {
      "cell_type": "code",
      "metadata": {
        "id": "7TKjSEa7lDOs",
        "colab_type": "code",
        "colab": {
          "base_uri": "https://localhost:8080/",
          "height": 71
        },
        "outputId": "e6d7e762-cb33-493f-9e2e-1a4c14901932"
      },
      "source": [
        "with tf.Session() as session:\n",
        "    result = session.run([add_buffer, mul_buffer]) # 一次执行多个 OP\n",
        "    \n",
        "    print(result)\n",
        "    print(type(result))\n",
        "    print(type(result[0]))"
      ],
      "execution_count": 4,
      "outputs": [
        {
          "output_type": "stream",
          "text": [
            "[3.0, 6.0]\n",
            "<class 'list'>\n",
            "<class 'numpy.float32'>\n"
          ],
          "name": "stdout"
        }
      ]
    }
  ]
}